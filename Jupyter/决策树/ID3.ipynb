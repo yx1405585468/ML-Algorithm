{
 "cells": [
  {
   "cell_type": "markdown",
   "metadata": {},
   "source": [
    "### 1. 理论知识"
   ]
  },
  {
   "cell_type": "markdown",
   "metadata": {},
   "source": [
    "1. ID3（Iterative Dichotomiser 3）是一种常用的决策树算法，主要用于**分类**任务。它通过构建树形模型来帮助决策。\n",
    "\n",
    "2. **特征选择**： ID3 通过计算**信息增益**来选择最佳特征。**信息增益**是指使用某一特征进行分类，所带来的**不确定性减少程度**。ID3 首先计算整个数据集的熵，然后计算在每个特征下的条件熵，信息增益则是二者的差值。\n",
    "\n",
    "3. **熵**： **熵**是衡量信息不确定性的一个指标。**熵越高，不确定性越大；熵越低，不确定性越小**。ID3 通过计算数据集中每个类别的分布来确定熵。\n",
    "\n",
    "4. **递归构建**： ID3 采用递归方法来构建树。从根节点开始，选择信息增益最大的特征作为当前节点，然后根据该特征的不同取值分割数据集，继续为每个子集构建子树，直到满足停止条件（如所有样本属于同一类别或没有特征可用）"
   ]
  },
  {
   "cell_type": "markdown",
   "metadata": {},
   "source": [
    "### 2.数据准备"
   ]
  },
  {
   "cell_type": "markdown",
   "metadata": {},
   "source": [
    "##### 2.1 导入数据集"
   ]
  },
  {
   "cell_type": "code",
   "execution_count": 7,
   "metadata": {},
   "outputs": [
    {
     "data": {
      "text/html": [
       "<div>\n",
       "<style scoped>\n",
       "    .dataframe tbody tr th:only-of-type {\n",
       "        vertical-align: middle;\n",
       "    }\n",
       "\n",
       "    .dataframe tbody tr th {\n",
       "        vertical-align: top;\n",
       "    }\n",
       "\n",
       "    .dataframe thead th {\n",
       "        text-align: right;\n",
       "    }\n",
       "</style>\n",
       "<table border=\"1\" class=\"dataframe\">\n",
       "  <thead>\n",
       "    <tr style=\"text-align: right;\">\n",
       "      <th></th>\n",
       "      <th>花萼长度</th>\n",
       "      <th>花萼宽度</th>\n",
       "      <th>花瓣长度</th>\n",
       "      <th>花瓣宽度</th>\n",
       "    </tr>\n",
       "  </thead>\n",
       "  <tbody>\n",
       "    <tr>\n",
       "      <th>0</th>\n",
       "      <td>5.1</td>\n",
       "      <td>3.5</td>\n",
       "      <td>1.4</td>\n",
       "      <td>0.2</td>\n",
       "    </tr>\n",
       "    <tr>\n",
       "      <th>1</th>\n",
       "      <td>4.9</td>\n",
       "      <td>3.0</td>\n",
       "      <td>1.4</td>\n",
       "      <td>0.2</td>\n",
       "    </tr>\n",
       "    <tr>\n",
       "      <th>2</th>\n",
       "      <td>4.7</td>\n",
       "      <td>3.2</td>\n",
       "      <td>1.3</td>\n",
       "      <td>0.2</td>\n",
       "    </tr>\n",
       "    <tr>\n",
       "      <th>3</th>\n",
       "      <td>4.6</td>\n",
       "      <td>3.1</td>\n",
       "      <td>1.5</td>\n",
       "      <td>0.2</td>\n",
       "    </tr>\n",
       "    <tr>\n",
       "      <th>4</th>\n",
       "      <td>5.0</td>\n",
       "      <td>3.6</td>\n",
       "      <td>1.4</td>\n",
       "      <td>0.2</td>\n",
       "    </tr>\n",
       "    <tr>\n",
       "      <th>...</th>\n",
       "      <td>...</td>\n",
       "      <td>...</td>\n",
       "      <td>...</td>\n",
       "      <td>...</td>\n",
       "    </tr>\n",
       "    <tr>\n",
       "      <th>145</th>\n",
       "      <td>6.7</td>\n",
       "      <td>3.0</td>\n",
       "      <td>5.2</td>\n",
       "      <td>2.3</td>\n",
       "    </tr>\n",
       "    <tr>\n",
       "      <th>146</th>\n",
       "      <td>6.3</td>\n",
       "      <td>2.5</td>\n",
       "      <td>5.0</td>\n",
       "      <td>1.9</td>\n",
       "    </tr>\n",
       "    <tr>\n",
       "      <th>147</th>\n",
       "      <td>6.5</td>\n",
       "      <td>3.0</td>\n",
       "      <td>5.2</td>\n",
       "      <td>2.0</td>\n",
       "    </tr>\n",
       "    <tr>\n",
       "      <th>148</th>\n",
       "      <td>6.2</td>\n",
       "      <td>3.4</td>\n",
       "      <td>5.4</td>\n",
       "      <td>2.3</td>\n",
       "    </tr>\n",
       "    <tr>\n",
       "      <th>149</th>\n",
       "      <td>5.9</td>\n",
       "      <td>3.0</td>\n",
       "      <td>5.1</td>\n",
       "      <td>1.8</td>\n",
       "    </tr>\n",
       "  </tbody>\n",
       "</table>\n",
       "<p>150 rows × 4 columns</p>\n",
       "</div>"
      ],
      "text/plain": [
       "     花萼长度  花萼宽度  花瓣长度  花瓣宽度\n",
       "0     5.1   3.5   1.4   0.2\n",
       "1     4.9   3.0   1.4   0.2\n",
       "2     4.7   3.2   1.3   0.2\n",
       "3     4.6   3.1   1.5   0.2\n",
       "4     5.0   3.6   1.4   0.2\n",
       "..    ...   ...   ...   ...\n",
       "145   6.7   3.0   5.2   2.3\n",
       "146   6.3   2.5   5.0   1.9\n",
       "147   6.5   3.0   5.2   2.0\n",
       "148   6.2   3.4   5.4   2.3\n",
       "149   5.9   3.0   5.1   1.8\n",
       "\n",
       "[150 rows x 4 columns]"
      ]
     },
     "execution_count": 7,
     "metadata": {},
     "output_type": "execute_result"
    }
   ],
   "source": [
    "# 导入模块\n",
    "from sklearn.datasets import load_iris\n",
    "import pandas as pd\n",
    "import numpy as np\n",
    "\n",
    "# 处理数据集\n",
    "iris = load_iris()\n",
    "X = pd.DataFrame(data=iris.data, columns=iris.feature_names)\n",
    "y = pd.DataFrame(data=iris.target, columns=[\"label\"])\n",
    "\n",
    "\n",
    "# 特征重命名\n",
    "map_ = {\n",
    "    \"sepal length (cm)\": \"花萼长度\",\n",
    "    \"sepal width (cm)\": \"花萼宽度\",\n",
    "    \"petal length (cm)\": \"花瓣长度\",\n",
    "    \"petal width (cm)\": \"花瓣宽度\",\n",
    "}\n",
    "X = X.rename(columns=map_)\n",
    "X"
   ]
  },
  {
   "cell_type": "markdown",
   "metadata": {},
   "source": [
    "#### 2.2 数据处理"
   ]
  },
  {
   "cell_type": "markdown",
   "metadata": {},
   "source": [
    "1. ID3树要求特征是**离散**的，因此需要对Iris数据集进行**分箱**操作。"
   ]
  },
  {
   "cell_type": "code",
   "execution_count": 8,
   "metadata": {},
   "outputs": [
    {
     "data": {
      "text/plain": [
       "array([[0, 2, 0, 0],\n",
       "       [0, 1, 0, 0],\n",
       "       [0, 1, 0, 0],\n",
       "       [0, 1, 0, 0],\n",
       "       [0, 2, 0, 0],\n",
       "       [1, 3, 0, 0],\n",
       "       [0, 2, 0, 0],\n",
       "       [0, 2, 0, 0],\n",
       "       [0, 1, 0, 0],\n",
       "       [0, 1, 0, 0],\n",
       "       [1, 2, 0, 0],\n",
       "       [0, 2, 0, 0],\n",
       "       [0, 1, 0, 0],\n",
       "       [0, 1, 0, 0],\n",
       "       [1, 3, 0, 0],\n",
       "       [1, 3, 0, 0],\n",
       "       [1, 3, 0, 0],\n",
       "       [0, 2, 0, 0],\n",
       "       [1, 2, 0, 0],\n",
       "       [0, 2, 0, 0],\n",
       "       [1, 2, 0, 0],\n",
       "       [0, 2, 0, 0],\n",
       "       [0, 2, 0, 0],\n",
       "       [0, 2, 0, 0],\n",
       "       [0, 2, 0, 0],\n",
       "       [0, 1, 0, 0],\n",
       "       [0, 2, 0, 0],\n",
       "       [0, 2, 0, 0],\n",
       "       [0, 2, 0, 0],\n",
       "       [0, 1, 0, 0],\n",
       "       [0, 1, 0, 0],\n",
       "       [1, 2, 0, 0],\n",
       "       [0, 3, 0, 0],\n",
       "       [1, 3, 0, 0],\n",
       "       [0, 1, 0, 0],\n",
       "       [0, 1, 0, 0],\n",
       "       [1, 2, 0, 0],\n",
       "       [0, 2, 0, 0],\n",
       "       [0, 1, 0, 0],\n",
       "       [0, 2, 0, 0],\n",
       "       [0, 2, 0, 0],\n",
       "       [0, 0, 0, 0],\n",
       "       [0, 1, 0, 0],\n",
       "       [0, 2, 0, 0],\n",
       "       [0, 2, 0, 0],\n",
       "       [0, 1, 0, 0],\n",
       "       [0, 2, 0, 0],\n",
       "       [0, 1, 0, 0],\n",
       "       [1, 2, 0, 0],\n",
       "       [0, 2, 0, 0],\n",
       "       [2, 1, 2, 2],\n",
       "       [2, 1, 2, 2],\n",
       "       [2, 1, 2, 2],\n",
       "       [1, 0, 2, 1],\n",
       "       [2, 1, 2, 2],\n",
       "       [1, 1, 2, 1],\n",
       "       [2, 2, 2, 2],\n",
       "       [0, 0, 1, 1],\n",
       "       [2, 1, 2, 1],\n",
       "       [0, 1, 1, 2],\n",
       "       [0, 0, 1, 1],\n",
       "       [1, 1, 2, 2],\n",
       "       [1, 0, 2, 1],\n",
       "       [1, 1, 2, 2],\n",
       "       [1, 1, 1, 1],\n",
       "       [2, 1, 2, 2],\n",
       "       [1, 1, 2, 2],\n",
       "       [1, 1, 2, 1],\n",
       "       [2, 0, 2, 2],\n",
       "       [1, 0, 1, 1],\n",
       "       [1, 1, 2, 2],\n",
       "       [1, 1, 2, 1],\n",
       "       [2, 0, 2, 2],\n",
       "       [1, 1, 2, 1],\n",
       "       [2, 1, 2, 1],\n",
       "       [2, 1, 2, 2],\n",
       "       [2, 1, 2, 2],\n",
       "       [2, 1, 2, 2],\n",
       "       [1, 1, 2, 2],\n",
       "       [1, 0, 1, 1],\n",
       "       [1, 0, 1, 1],\n",
       "       [1, 0, 1, 1],\n",
       "       [1, 1, 1, 1],\n",
       "       [1, 1, 2, 2],\n",
       "       [1, 1, 2, 2],\n",
       "       [1, 2, 2, 2],\n",
       "       [2, 1, 2, 2],\n",
       "       [2, 0, 2, 1],\n",
       "       [1, 1, 2, 1],\n",
       "       [1, 0, 2, 1],\n",
       "       [1, 0, 2, 1],\n",
       "       [1, 1, 2, 2],\n",
       "       [1, 0, 2, 1],\n",
       "       [0, 0, 1, 1],\n",
       "       [1, 1, 2, 1],\n",
       "       [1, 1, 2, 1],\n",
       "       [1, 1, 2, 1],\n",
       "       [2, 1, 2, 1],\n",
       "       [0, 0, 1, 1],\n",
       "       [1, 1, 2, 1],\n",
       "       [2, 2, 3, 3],\n",
       "       [1, 1, 2, 2],\n",
       "       [3, 1, 3, 3],\n",
       "       [2, 1, 3, 2],\n",
       "       [2, 1, 3, 3],\n",
       "       [3, 1, 3, 3],\n",
       "       [0, 0, 2, 2],\n",
       "       [3, 1, 3, 2],\n",
       "       [2, 0, 3, 2],\n",
       "       [3, 2, 3, 3],\n",
       "       [2, 1, 2, 3],\n",
       "       [2, 1, 2, 2],\n",
       "       [2, 1, 3, 3],\n",
       "       [1, 0, 2, 3],\n",
       "       [1, 1, 2, 3],\n",
       "       [2, 1, 2, 3],\n",
       "       [2, 1, 3, 2],\n",
       "       [3, 2, 3, 3],\n",
       "       [3, 0, 3, 3],\n",
       "       [1, 0, 2, 2],\n",
       "       [2, 1, 3, 3],\n",
       "       [1, 1, 2, 3],\n",
       "       [3, 1, 3, 3],\n",
       "       [2, 1, 2, 2],\n",
       "       [2, 2, 3, 3],\n",
       "       [3, 1, 3, 2],\n",
       "       [2, 1, 2, 2],\n",
       "       [1, 1, 2, 2],\n",
       "       [2, 1, 3, 3],\n",
       "       [3, 1, 3, 2],\n",
       "       [3, 1, 3, 2],\n",
       "       [3, 2, 3, 3],\n",
       "       [2, 1, 3, 3],\n",
       "       [2, 1, 2, 2],\n",
       "       [1, 0, 3, 2],\n",
       "       [3, 1, 3, 3],\n",
       "       [2, 2, 3, 3],\n",
       "       [2, 1, 3, 2],\n",
       "       [1, 1, 2, 2],\n",
       "       [2, 1, 2, 3],\n",
       "       [2, 1, 3, 3],\n",
       "       [2, 1, 2, 3],\n",
       "       [1, 1, 2, 2],\n",
       "       [2, 1, 3, 3],\n",
       "       [2, 2, 3, 3],\n",
       "       [2, 1, 2, 3],\n",
       "       [2, 0, 2, 2],\n",
       "       [2, 1, 2, 3],\n",
       "       [2, 2, 2, 3],\n",
       "       [1, 1, 2, 2]], dtype=object)"
      ]
     },
     "execution_count": 8,
     "metadata": {},
     "output_type": "execute_result"
    }
   ],
   "source": [
    "# 对每一列特征进行分箱\n",
    "X_new = pd.DataFrame()\n",
    "for c in X.columns:\n",
    "    binned_data = pd.cut(X[c], bins=4, labels=[0, 1, 2, 3])\n",
    "    X_new = pd.concat([X_new, binned_data], axis=1)\n",
    "\n",
    "# Array化，方便计算\n",
    "X_new = np.array(X_new)\n",
    "y = np.array(y)\n",
    "X_new"
   ]
  },
  {
   "cell_type": "markdown",
   "metadata": {},
   "source": [
    "### 3. 构建ID3树"
   ]
  },
  {
   "cell_type": "markdown",
   "metadata": {},
   "source": [
    "#### 3.1 熵与信息增益"
   ]
  },
  {
   "cell_type": "markdown",
   "metadata": {},
   "source": [
    "1. 信息熵的计算：在分类数据集中，信息熵用来衡量 数据集中**标签** 的 **纯度或不确定性**。具体来说，信息熵越高，表示数据集中标签的类别分布越分散，越不纯；信息熵越低，表示标签的类别越集中，数据集越纯。那么，如何计算信息熵，以及信息增益呢？\n",
    "\n",
    "2. ![Example Image](img/信息熵1.jpg)\n",
    "\n",
    "3. **将数据集根据某个特征分成若干个子集。假设特征 𝐴 有 𝑉 个可能取值。每个取值将数据集划分成一个子集。**\n",
    "\n",
    "5. ![Example Image](img/子集信息熵1.jpg)\n",
    "\n",
    "6. 最后，加权子集信息熵，计算条件熵与信息增益。\n",
    "\n",
    "7. ![Example Image](img/条件熵与信息增益1.jpg)"
   ]
  },
  {
   "cell_type": "markdown",
   "metadata": {},
   "source": [
    "1. 需要注意：**子集信息熵公式** = **原数据集信息熵公式**\n",
    "\n",
    "2. 条件熵 = 子集的信息熵 * 子集比例，如对特征A有4个子集，每个子集的信息熵为[0.2, 0.3, 0.4, 0.1]，每个子集的比例[0.1, 0.5, 0.3, 0.1]\n",
    "\n",
    "3. 则特征A的条件熵：即以特征A划分时，的子集的熵的加权和 = [0.2*0.1 + 0.3*0.5 + 0.4*0.3 + 0.1*0.1]"
   ]
  },
  {
   "cell_type": "code",
   "execution_count": 9,
   "metadata": {},
   "outputs": [
    {
     "name": "stdout",
     "output_type": "stream",
     "text": [
      "1.584962500721156\n",
      "1.584962500721156\n"
     ]
    }
   ],
   "source": [
    "# 计算信息熵\n",
    "\n",
    "# 我写的：\n",
    "def get_entropy_me(y_):\n",
    "    entropy = -np.sum(\n",
    "        [\n",
    "            (i / y_.shape[0]) * np.log2(i / y_.shape[0])\n",
    "            for i in np.unique(y_, return_counts=True)[1]\n",
    "        ]\n",
    "    )\n",
    "    return entropy\n",
    "\n",
    "\n",
    "# gpt写的\n",
    "def get_entropy_gpt(y):\n",
    "    _, counts = np.unique(y, return_counts=True)\n",
    "    probabilities = counts / counts.sum()\n",
    "    return -np.sum(probabilities * np.log2(probabilities))\n",
    "\n",
    "\n",
    "# 打印熵值\n",
    "print(get_entropy_gpt(y))\n",
    "print(get_entropy_me(y))"
   ]
  },
  {
   "cell_type": "code",
   "execution_count": 10,
   "metadata": {},
   "outputs": [
    {
     "name": "stdout",
     "output_type": "stream",
     "text": [
      "0.6491037267564883\n",
      "0.6491037267564883\n"
     ]
    }
   ],
   "source": [
    "# 计算信息增益\n",
    "\n",
    "# 我写的\n",
    "def get_information_gain_me(y_, x_):\n",
    "\n",
    "    # 根据给定的这一列特征不同值, 找到对应的子集index\n",
    "    indexs = [np.where(x_ == i) for i in np.unique(x_)] \n",
    "\n",
    "    # 根据子集index找到子集y, 求子集y的的信息熵并加权求和\n",
    "    x_entropy = np.sum([get_entropy_me(y[i]) * (len(y[i]) / len(y)) for i in indexs]) \n",
    "\n",
    "    # 返回信息增益\n",
    "    return get_entropy_me(y_) - x_entropy\n",
    "\n",
    "\n",
    "# gpt写的\n",
    "def get_information_gain_gpt(y_, x_):\n",
    "\n",
    "    # 计算整体熵\n",
    "    total_entropy = get_entropy_gpt(y_)\n",
    "\n",
    "    # 计算特征 x 的每个唯一值的熵\n",
    "    unique_values = np.unique(x_)\n",
    "\n",
    "    weighted_entropy = 0\n",
    "    for value in unique_values:\n",
    "\n",
    "        # 获取特征 x 等于当前值的样本\n",
    "        subset = y[x_ == value]\n",
    "\n",
    "        # 计算该子集的熵\n",
    "        subset_entropy = get_entropy_gpt(subset)\n",
    "\n",
    "        # 计算该子集的权重\n",
    "        weight = len(subset) / len(y_)\n",
    "\n",
    "        # 加权熵\n",
    "        weighted_entropy += weight * subset_entropy\n",
    "\n",
    "    # 计算信息增益\n",
    "    gain = total_entropy - weighted_entropy\n",
    "    return gain\n",
    "\n",
    "print(get_information_gain_me(y, X_new[:, 0]))\n",
    "print(get_information_gain_gpt(y, X_new[:, 0]))"
   ]
  },
  {
   "cell_type": "code",
   "execution_count": 11,
   "metadata": {},
   "outputs": [
    {
     "data": {
      "text/plain": [
       "np.int64(3)"
      ]
     },
     "execution_count": 11,
     "metadata": {},
     "output_type": "execute_result"
    }
   ],
   "source": [
    "# 构建决策树\n",
    "def get_best_feature(y_, x_):\n",
    "    score = []\n",
    "    for i in range(x_.shape[1]):\n",
    "        gain_i = get_information_gain_me(y_, x_[:, i])\n",
    "        score.append(gain_i)\n",
    "\n",
    "    # 最大信息增益的特征\n",
    "    return np.argmax(score)\n",
    "\n",
    "\n",
    "get_best_feature(y, X_new)"
   ]
  },
  {
   "cell_type": "code",
   "execution_count": null,
   "metadata": {},
   "outputs": [],
   "source": []
  },
  {
   "cell_type": "code",
   "execution_count": null,
   "metadata": {},
   "outputs": [],
   "source": []
  },
  {
   "cell_type": "code",
   "execution_count": null,
   "metadata": {},
   "outputs": [],
   "source": []
  },
  {
   "cell_type": "code",
   "execution_count": 12,
   "metadata": {},
   "outputs": [
    {
     "data": {
      "text/plain": [
       "0.9210526315789473"
      ]
     },
     "execution_count": 12,
     "metadata": {},
     "output_type": "execute_result"
    }
   ],
   "source": [
    "# sklearn中模型计算\n",
    "from sklearn.tree import DecisionTreeClassifier\n",
    "from sklearn.model_selection import train_test_split\n",
    "from sklearn.metrics import accuracy_score\n",
    "\n",
    "model = DecisionTreeClassifier(criterion=\"entropy\")\n",
    "x_train, x_test, y_train, y_test = train_test_split(X_new, y)\n",
    "model.fit(x_train, y_train)\n",
    "y_pre = model.predict(x_test)\n",
    "accuracy_score(y_test, y_pre)"
   ]
  }
 ],
 "metadata": {
  "kernelspec": {
   "display_name": "Python 3",
   "language": "python",
   "name": "python3"
  },
  "language_info": {
   "codemirror_mode": {
    "name": "ipython",
    "version": 3
   },
   "file_extension": ".py",
   "mimetype": "text/x-python",
   "name": "python",
   "nbconvert_exporter": "python",
   "pygments_lexer": "ipython3",
   "version": "3.12.7"
  }
 },
 "nbformat": 4,
 "nbformat_minor": 2
}
