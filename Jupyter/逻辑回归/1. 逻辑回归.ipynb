{
 "cells": [
  {
   "cell_type": "markdown",
   "metadata": {},
   "source": [
    "### 1. 理论知识"
   ]
  },
  {
   "cell_type": "markdown",
   "metadata": {},
   "source": [
    "1. 线性回归：y=ax+b，逻辑回归：y=sigmoid(ax+b)，即**y = 1/(1+e^(-(ax+b)))**，添加xn+1列=1，则有**f(x) = 1/(1+e^(-(X·A)))**\n",
    "\n",
    "2. sigmoid函数中，随着X的变化，y是一条曲线，值为0~1（可以看作概率），那么，**可以约定yi大于0.5为1，小于0.5为0**，就解决了连续值分类的问题\n",
    "\n",
    "3. 二分类问题中，y=0或者1的概率：假如袋子里有10个球，7个黑球，3个白球，有放回的摸球，则摸到黑球的概率为p1 = 0.7，摸到白球的概率为1-p1 = 0.3。\n",
    "\n",
    "4. 则摸到黑球|白球的概率公式可定义为，P(y) = p1^y * (1-p1)^(1-y)，可推出，P(y=1时(摸到黑球)) = p1，P(y=0时(摸到白球)) = 1-p1，\n",
    "\n",
    "5. 将摸到黑球的概率代入，则得到函数的预测概率：**P(y|x,A) = (1/(1+e^(-(X·A))))^y * (1-1/(1+e^(-(X·A))))^(1-y)**\n",
    "\n",
    "6. ![Example Image](img/最大似然估计1.jpg)\n",
    "\n",
    "7. ![Example Image](img/最大似然估计2.jpg)\n",
    "\n",
    "8. **具体推导见链接**：https://zhuanlan.zhihu.com/p/139122386\n",
    "\n",
    "9. 最大似然估计与最小二乘法：https://zhuanlan.zhihu.com/p/55793850"
   ]
  },
  {
   "cell_type": "code",
   "execution_count": 422,
   "metadata": {},
   "outputs": [
    {
     "name": "stderr",
     "output_type": "stream",
     "text": [
      "d:\\ProgramData\\miniconda3\\envs\\ml\\Lib\\site-packages\\IPython\\core\\pylabtools.py:170: UserWarning: Glyph 8722 (\\N{MINUS SIGN}) missing from font(s) SimHei.\n",
      "  fig.canvas.print_figure(bytes_io, **kw)\n"
     ]
    },
    {
     "data": {
      "image/png": "[encoded data removed]",
      "text/plain": [
       "<Figure size 640x480 with 1 Axes>"
      ]
     },
     "metadata": {},
     "output_type": "display_data"
    }
   ],
   "source": [
    "# 绘制sigmoid函数图\n",
    "from plot_show import plot_sigmoid\n",
    "plot_sigmoid()"
   ]
  },
  {
   "cell_type": "markdown",
   "metadata": {},
   "source": [
    "### 2.数据准备"
   ]
  },
  {
   "cell_type": "markdown",
   "metadata": {},
   "source": [
    "##### 2.1 导入数据集"
   ]
  },
  {
   "cell_type": "code",
   "execution_count": 423,
   "metadata": {},
   "outputs": [
    {
     "data": {
      "text/html": [
       "<div>\n",
       "<style scoped>\n",
       "    .dataframe tbody tr th:only-of-type {\n",
       "        vertical-align: middle;\n",
       "    }\n",
       "\n",
       "    .dataframe tbody tr th {\n",
       "        vertical-align: top;\n",
       "    }\n",
       "\n",
       "    .dataframe thead th {\n",
       "        text-align: right;\n",
       "    }\n",
       "</style>\n",
       "<table border=\"1\" class=\"dataframe\">\n",
       "  <thead>\n",
       "    <tr style=\"text-align: right;\">\n",
       "      <th></th>\n",
       "      <th>花萼长度</th>\n",
       "      <th>花萼宽度</th>\n",
       "      <th>花瓣长度</th>\n",
       "      <th>花瓣宽度</th>\n",
       "    </tr>\n",
       "  </thead>\n",
       "  <tbody>\n",
       "    <tr>\n",
       "      <th>0</th>\n",
       "      <td>5.1</td>\n",
       "      <td>3.5</td>\n",
       "      <td>1.4</td>\n",
       "      <td>0.2</td>\n",
       "    </tr>\n",
       "    <tr>\n",
       "      <th>1</th>\n",
       "      <td>4.9</td>\n",
       "      <td>3.0</td>\n",
       "      <td>1.4</td>\n",
       "      <td>0.2</td>\n",
       "    </tr>\n",
       "    <tr>\n",
       "      <th>2</th>\n",
       "      <td>4.7</td>\n",
       "      <td>3.2</td>\n",
       "      <td>1.3</td>\n",
       "      <td>0.2</td>\n",
       "    </tr>\n",
       "    <tr>\n",
       "      <th>3</th>\n",
       "      <td>4.6</td>\n",
       "      <td>3.1</td>\n",
       "      <td>1.5</td>\n",
       "      <td>0.2</td>\n",
       "    </tr>\n",
       "    <tr>\n",
       "      <th>4</th>\n",
       "      <td>5.0</td>\n",
       "      <td>3.6</td>\n",
       "      <td>1.4</td>\n",
       "      <td>0.2</td>\n",
       "    </tr>\n",
       "    <tr>\n",
       "      <th>...</th>\n",
       "      <td>...</td>\n",
       "      <td>...</td>\n",
       "      <td>...</td>\n",
       "      <td>...</td>\n",
       "    </tr>\n",
       "    <tr>\n",
       "      <th>145</th>\n",
       "      <td>6.7</td>\n",
       "      <td>3.0</td>\n",
       "      <td>5.2</td>\n",
       "      <td>2.3</td>\n",
       "    </tr>\n",
       "    <tr>\n",
       "      <th>146</th>\n",
       "      <td>6.3</td>\n",
       "      <td>2.5</td>\n",
       "      <td>5.0</td>\n",
       "      <td>1.9</td>\n",
       "    </tr>\n",
       "    <tr>\n",
       "      <th>147</th>\n",
       "      <td>6.5</td>\n",
       "      <td>3.0</td>\n",
       "      <td>5.2</td>\n",
       "      <td>2.0</td>\n",
       "    </tr>\n",
       "    <tr>\n",
       "      <th>148</th>\n",
       "      <td>6.2</td>\n",
       "      <td>3.4</td>\n",
       "      <td>5.4</td>\n",
       "      <td>2.3</td>\n",
       "    </tr>\n",
       "    <tr>\n",
       "      <th>149</th>\n",
       "      <td>5.9</td>\n",
       "      <td>3.0</td>\n",
       "      <td>5.1</td>\n",
       "      <td>1.8</td>\n",
       "    </tr>\n",
       "  </tbody>\n",
       "</table>\n",
       "<p>150 rows × 4 columns</p>\n",
       "</div>"
      ],
      "text/plain": [
       "     花萼长度  花萼宽度  花瓣长度  花瓣宽度\n",
       "0     5.1   3.5   1.4   0.2\n",
       "1     4.9   3.0   1.4   0.2\n",
       "2     4.7   3.2   1.3   0.2\n",
       "3     4.6   3.1   1.5   0.2\n",
       "4     5.0   3.6   1.4   0.2\n",
       "..    ...   ...   ...   ...\n",
       "145   6.7   3.0   5.2   2.3\n",
       "146   6.3   2.5   5.0   1.9\n",
       "147   6.5   3.0   5.2   2.0\n",
       "148   6.2   3.4   5.4   2.3\n",
       "149   5.9   3.0   5.1   1.8\n",
       "\n",
       "[150 rows x 4 columns]"
      ]
     },
     "execution_count": 423,
     "metadata": {},
     "output_type": "execute_result"
    }
   ],
   "source": [
    "# 导入模块\n",
    "from sklearn.datasets import load_iris\n",
    "import pandas as pd\n",
    "import numpy as np\n",
    "\n",
    "# 处理数据集\n",
    "iris=load_iris()\n",
    "X = pd.DataFrame(data=iris.data, columns=iris.feature_names)\n",
    "y = pd.DataFrame(data=iris.target, columns=[\"label\"])\n",
    "\n",
    "# 特征重命名\n",
    "map_={\n",
    "    'sepal length (cm)': '花萼长度',\n",
    "    'sepal width (cm)': '花萼宽度',\n",
    "    'petal length (cm)': '花瓣长度',\n",
    "    'petal width (cm)': '花瓣宽度'\n",
    "}\n",
    "X=X.rename(columns=map_)\n",
    "X"
   ]
  },
  {
   "cell_type": "markdown",
   "metadata": {},
   "source": [
    "#### 2.2 数据处理"
   ]
  },
  {
   "cell_type": "markdown",
   "metadata": {},
   "source": [
    "1. 逻辑回归基于线性回归y=ax+b，y = 1/(1+e^(-(ax+b)))，**添加xn+1列=1**，以融合b到参数A，有**f(x) = 1/(1+e^(-(X·A)))**"
   ]
  },
  {
   "cell_type": "markdown",
   "metadata": {},
   "source": [
    "**注意！！一定要对数据进行归一化，统一量纲，不然梯度下降大概率无法收敛！！**"
   ]
  },
  {
   "cell_type": "code",
   "execution_count": 424,
   "metadata": {},
   "outputs": [
    {
     "data": {
      "text/plain": [
       "array([[0.80377277, 0.55160877, 0.22064351, 0.0315205 , 1.        ],\n",
       "       [0.82813287, 0.50702013, 0.23660939, 0.03380134, 1.        ],\n",
       "       [0.80533308, 0.54831188, 0.2227517 , 0.03426949, 1.        ],\n",
       "       [0.80003025, 0.53915082, 0.26087943, 0.03478392, 1.        ],\n",
       "       [0.790965  , 0.5694948 , 0.2214702 , 0.0316386 , 1.        ],\n",
       "       [0.78417499, 0.5663486 , 0.2468699 , 0.05808704, 1.        ],\n",
       "       [0.78010936, 0.57660257, 0.23742459, 0.0508767 , 1.        ],\n",
       "       [0.80218492, 0.54548574, 0.24065548, 0.0320874 , 1.        ],\n",
       "       [0.80642366, 0.5315065 , 0.25658935, 0.03665562, 1.        ],\n",
       "       [0.81803119, 0.51752994, 0.25041771, 0.01669451, 1.        ],\n",
       "       [0.80373519, 0.55070744, 0.22325977, 0.02976797, 1.        ],\n",
       "       [0.786991  , 0.55745196, 0.26233033, 0.03279129, 1.        ],\n",
       "       [0.82307218, 0.51442011, 0.24006272, 0.01714734, 1.        ],\n",
       "       [0.8025126 , 0.55989251, 0.20529392, 0.01866308, 1.        ],\n",
       "       [0.81120865, 0.55945424, 0.16783627, 0.02797271, 1.        ],\n",
       "       [0.77381111, 0.59732787, 0.2036345 , 0.05430253, 1.        ],\n",
       "       [0.79428944, 0.57365349, 0.19121783, 0.05883625, 1.        ],\n",
       "       [0.80327412, 0.55126656, 0.22050662, 0.04725142, 1.        ],\n",
       "       [0.8068282 , 0.53788547, 0.24063297, 0.04246464, 1.        ],\n",
       "       [0.77964883, 0.58091482, 0.22930848, 0.0458617 , 1.        ],\n",
       "       [0.8173379 , 0.51462016, 0.25731008, 0.03027177, 1.        ],\n",
       "       [0.78591858, 0.57017622, 0.23115252, 0.06164067, 1.        ],\n",
       "       [0.77577075, 0.60712493, 0.16864581, 0.03372916, 1.        ],\n",
       "       [0.80597792, 0.52151512, 0.26865931, 0.07901744, 1.        ],\n",
       "       [0.776114  , 0.54974742, 0.30721179, 0.03233808, 1.        ],\n",
       "       [0.82647451, 0.4958847 , 0.26447184, 0.03305898, 1.        ],\n",
       "       [0.79778206, 0.5424918 , 0.25529026, 0.06382256, 1.        ],\n",
       "       [0.80641965, 0.54278246, 0.23262105, 0.03101614, 1.        ],\n",
       "       [0.81609427, 0.5336001 , 0.21971769, 0.03138824, 1.        ],\n",
       "       [0.79524064, 0.54144043, 0.27072022, 0.03384003, 1.        ],\n",
       "       [0.80846584, 0.52213419, 0.26948861, 0.03368608, 1.        ],\n",
       "       [0.82225028, 0.51771314, 0.22840286, 0.06090743, 1.        ],\n",
       "       [0.76578311, 0.60379053, 0.22089897, 0.0147266 , 1.        ],\n",
       "       [0.77867447, 0.59462414, 0.19820805, 0.02831544, 1.        ],\n",
       "       [0.81768942, 0.51731371, 0.25031309, 0.03337508, 1.        ],\n",
       "       [0.82512295, 0.52807869, 0.19802951, 0.03300492, 1.        ],\n",
       "       [0.82699754, 0.52627116, 0.19547215, 0.03007264, 1.        ],\n",
       "       [0.78523221, 0.5769053 , 0.22435206, 0.01602515, 1.        ],\n",
       "       [0.80212413, 0.54690282, 0.23699122, 0.03646019, 1.        ],\n",
       "       [0.80779568, 0.53853046, 0.23758697, 0.03167826, 1.        ],\n",
       "       [0.80033301, 0.56023311, 0.20808658, 0.04801998, 1.        ],\n",
       "       [0.86093857, 0.44003527, 0.24871559, 0.0573959 , 1.        ],\n",
       "       [0.78609038, 0.57170209, 0.23225397, 0.03573138, 1.        ],\n",
       "       [0.78889479, 0.55222635, 0.25244633, 0.09466737, 1.        ],\n",
       "       [0.76693897, 0.57144472, 0.28572236, 0.06015208, 1.        ],\n",
       "       [0.82210585, 0.51381615, 0.23978087, 0.05138162, 1.        ],\n",
       "       [0.77729093, 0.57915795, 0.24385598, 0.030482  , 1.        ],\n",
       "       [0.79594782, 0.55370283, 0.24224499, 0.03460643, 1.        ],\n",
       "       [0.79837025, 0.55735281, 0.22595384, 0.03012718, 1.        ],\n",
       "       [0.81228363, 0.5361072 , 0.22743942, 0.03249135, 1.        ],\n",
       "       [0.76701103, 0.35063361, 0.51499312, 0.15340221, 1.        ],\n",
       "       [0.74549757, 0.37274878, 0.52417798, 0.17472599, 1.        ],\n",
       "       [0.75519285, 0.33928954, 0.53629637, 0.16417236, 1.        ],\n",
       "       [0.75384916, 0.31524601, 0.54825394, 0.17818253, 1.        ],\n",
       "       [0.7581754 , 0.32659863, 0.5365549 , 0.17496355, 1.        ],\n",
       "       [0.72232962, 0.35482858, 0.57026022, 0.16474184, 1.        ],\n",
       "       [0.72634846, 0.38046824, 0.54187901, 0.18446945, 1.        ],\n",
       "       [0.75916547, 0.37183615, 0.51127471, 0.15493173, 1.        ],\n",
       "       [0.76301853, 0.33526572, 0.53180079, 0.15029153, 1.        ],\n",
       "       [0.72460233, 0.37623583, 0.54345175, 0.19508524, 1.        ],\n",
       "       [0.76923077, 0.30769231, 0.53846154, 0.15384615, 1.        ],\n",
       "       [0.73923462, 0.37588201, 0.52623481, 0.187941  , 1.        ],\n",
       "       [0.78892752, 0.28927343, 0.52595168, 0.13148792, 1.        ],\n",
       "       [0.73081412, 0.34743622, 0.56308629, 0.16772783, 1.        ],\n",
       "       [0.75911707, 0.3931142 , 0.48800383, 0.17622361, 1.        ],\n",
       "       [0.76945444, 0.35601624, 0.50531337, 0.16078153, 1.        ],\n",
       "       [0.70631892, 0.37838513, 0.5675777 , 0.18919257, 1.        ],\n",
       "       [0.75676497, 0.35228714, 0.53495455, 0.13047672, 1.        ],\n",
       "       [0.76444238, 0.27125375, 0.55483721, 0.18494574, 1.        ],\n",
       "       [0.76185188, 0.34011245, 0.53057542, 0.14964948, 1.        ],\n",
       "       [0.6985796 , 0.37889063, 0.56833595, 0.21312598, 1.        ],\n",
       "       [0.77011854, 0.35349703, 0.50499576, 0.16412362, 1.        ],\n",
       "       [0.74143307, 0.29421947, 0.57667016, 0.17653168, 1.        ],\n",
       "       [0.73659895, 0.33811099, 0.56754345, 0.14490471, 1.        ],\n",
       "       [0.76741698, 0.34773582, 0.51560829, 0.15588157, 1.        ],\n",
       "       [0.76785726, 0.34902603, 0.51190484, 0.16287881, 1.        ],\n",
       "       [0.76467269, 0.31486523, 0.53976896, 0.15743261, 1.        ],\n",
       "       [0.74088576, 0.33173989, 0.55289982, 0.18798594, 1.        ],\n",
       "       [0.73350949, 0.35452959, 0.55013212, 0.18337737, 1.        ],\n",
       "       [0.78667474, 0.35883409, 0.48304589, 0.13801311, 1.        ],\n",
       "       [0.76521855, 0.33391355, 0.52869645, 0.15304371, 1.        ],\n",
       "       [0.77242925, 0.33706004, 0.51963422, 0.14044168, 1.        ],\n",
       "       [0.76434981, 0.35581802, 0.51395936, 0.15814134, 1.        ],\n",
       "       [0.70779525, 0.31850786, 0.60162596, 0.1887454 , 1.        ],\n",
       "       [0.69333409, 0.38518561, 0.57777841, 0.1925928 , 1.        ],\n",
       "       [0.71524936, 0.40530797, 0.53643702, 0.19073316, 1.        ],\n",
       "       [0.75457341, 0.34913098, 0.52932761, 0.16893434, 1.        ],\n",
       "       [0.77530021, 0.28304611, 0.54147951, 0.15998258, 1.        ],\n",
       "       [0.72992443, 0.39103094, 0.53440896, 0.16944674, 1.        ],\n",
       "       [0.74714194, 0.33960997, 0.54337595, 0.17659719, 1.        ],\n",
       "       [0.72337118, 0.34195729, 0.57869695, 0.15782644, 1.        ],\n",
       "       [0.73260391, 0.36029701, 0.55245541, 0.1681386 , 1.        ],\n",
       "       [0.76262994, 0.34186859, 0.52595168, 0.1577855 , 1.        ],\n",
       "       [0.76986879, 0.35413965, 0.5081134 , 0.15397376, 1.        ],\n",
       "       [0.73544284, 0.35458851, 0.55158213, 0.1707278 , 1.        ],\n",
       "       [0.73239618, 0.38547167, 0.53966034, 0.15418867, 1.        ],\n",
       "       [0.73446047, 0.37367287, 0.5411814 , 0.16750853, 1.        ],\n",
       "       [0.75728103, 0.3542121 , 0.52521104, 0.15878473, 1.        ],\n",
       "       [0.78258054, 0.38361791, 0.4603415 , 0.16879188, 1.        ],\n",
       "       [0.7431482 , 0.36505526, 0.5345452 , 0.16948994, 1.        ],\n",
       "       [0.65387747, 0.34250725, 0.62274045, 0.25947519, 1.        ],\n",
       "       [0.69052512, 0.32145135, 0.60718588, 0.22620651, 1.        ],\n",
       "       [0.71491405, 0.30207636, 0.59408351, 0.21145345, 1.        ],\n",
       "       [0.69276796, 0.31889319, 0.61579374, 0.1979337 , 1.        ],\n",
       "       [0.68619022, 0.31670318, 0.61229281, 0.232249  , 1.        ],\n",
       "       [0.70953708, 0.28008043, 0.61617694, 0.1960563 , 1.        ],\n",
       "       [0.67054118, 0.34211284, 0.61580312, 0.23263673, 1.        ],\n",
       "       [0.71366557, 0.28351098, 0.61590317, 0.17597233, 1.        ],\n",
       "       [0.71414125, 0.26647062, 0.61821183, 0.19185884, 1.        ],\n",
       "       [0.69198788, 0.34599394, 0.58626751, 0.24027357, 1.        ],\n",
       "       [0.71562645, 0.3523084 , 0.56149152, 0.22019275, 1.        ],\n",
       "       [0.71576546, 0.30196356, 0.59274328, 0.21249287, 1.        ],\n",
       "       [0.71718148, 0.31640359, 0.58007326, 0.22148252, 1.        ],\n",
       "       [0.6925518 , 0.30375079, 0.60750157, 0.24300063, 1.        ],\n",
       "       [0.67767924, 0.32715549, 0.59589036, 0.28041899, 1.        ],\n",
       "       [0.69589887, 0.34794944, 0.57629125, 0.25008866, 1.        ],\n",
       "       [0.70610474, 0.3258945 , 0.59747324, 0.1955367 , 1.        ],\n",
       "       [0.69299099, 0.34199555, 0.60299216, 0.19799743, 1.        ],\n",
       "       [0.70600618, 0.2383917 , 0.63265489, 0.21088496, 1.        ],\n",
       "       [0.72712585, 0.26661281, 0.60593821, 0.18178146, 1.        ],\n",
       "       [0.70558934, 0.32722984, 0.58287815, 0.23519645, 1.        ],\n",
       "       [0.68307923, 0.34153961, 0.59769433, 0.24395687, 1.        ],\n",
       "       [0.71486543, 0.25995106, 0.62202576, 0.18567933, 1.        ],\n",
       "       [0.73122464, 0.31338199, 0.56873028, 0.20892133, 1.        ],\n",
       "       [0.69595601, 0.3427843 , 0.59208198, 0.21813547, 1.        ],\n",
       "       [0.71529453, 0.31790868, 0.59607878, 0.17882363, 1.        ],\n",
       "       [0.72785195, 0.32870733, 0.56349829, 0.21131186, 1.        ],\n",
       "       [0.71171214, 0.35002236, 0.57170319, 0.21001342, 1.        ],\n",
       "       [0.69594002, 0.30447376, 0.60894751, 0.22835532, 1.        ],\n",
       "       [0.73089855, 0.30454106, 0.58877939, 0.1624219 , 1.        ],\n",
       "       [0.72766159, 0.27533141, 0.59982915, 0.18683203, 1.        ],\n",
       "       [0.71578999, 0.34430405, 0.5798805 , 0.18121266, 1.        ],\n",
       "       [0.69417747, 0.30370264, 0.60740528, 0.2386235 , 1.        ],\n",
       "       [0.72366005, 0.32162669, 0.58582004, 0.17230001, 1.        ],\n",
       "       [0.69385414, 0.29574111, 0.63698085, 0.15924521, 1.        ],\n",
       "       [0.73154399, 0.28501714, 0.57953485, 0.21851314, 1.        ],\n",
       "       [0.67017484, 0.36168166, 0.59571097, 0.2553047 , 1.        ],\n",
       "       [0.69804799, 0.338117  , 0.59988499, 0.196326  , 1.        ],\n",
       "       [0.71066905, 0.35533453, 0.56853524, 0.21320072, 1.        ],\n",
       "       [0.72415258, 0.32534391, 0.56672811, 0.22039426, 1.        ],\n",
       "       [0.69997037, 0.32386689, 0.58504986, 0.25073566, 1.        ],\n",
       "       [0.73337886, 0.32948905, 0.54206264, 0.24445962, 1.        ],\n",
       "       [0.69052512, 0.32145135, 0.60718588, 0.22620651, 1.        ],\n",
       "       [0.69193502, 0.32561648, 0.60035539, 0.23403685, 1.        ],\n",
       "       [0.68914871, 0.33943145, 0.58629069, 0.25714504, 1.        ],\n",
       "       [0.72155725, 0.32308533, 0.56001458, 0.24769876, 1.        ],\n",
       "       [0.72965359, 0.28954508, 0.57909015, 0.22005426, 1.        ],\n",
       "       [0.71653899, 0.3307103 , 0.57323119, 0.22047353, 1.        ],\n",
       "       [0.67467072, 0.36998072, 0.58761643, 0.25028107, 1.        ],\n",
       "       [0.69025916, 0.35097923, 0.5966647 , 0.21058754, 1.        ]])"
      ]
     },
     "execution_count": 424,
     "metadata": {},
     "output_type": "execute_result"
    }
   ],
   "source": [
    "from sklearn.preprocessing import Normalizer\n",
    "\n",
    "# 数据归一化！！！！非常重要！！！！\n",
    "X_1=Normalizer().fit_transform(X)\n",
    "\n",
    "# 添加补充列\n",
    "X_1=np.hstack((X_1,np.ones((len(X_1),1))))\n",
    "\n",
    "# 最后将y array化，方便后续计算，矩阵乘法@符号，和A.dot(B)形式都要求为array，否则只能用np.dot(A,B)\n",
    "y=y.values\n",
    "X_1"
   ]
  },
  {
   "cell_type": "markdown",
   "metadata": {},
   "source": [
    "### 3. 算法实现"
   ]
  },
  {
   "cell_type": "markdown",
   "metadata": {},
   "source": [
    "#### 3.1 梯度下降\n",
    "**非凸函数，不可正规方程求解**"
   ]
  },
  {
   "cell_type": "markdown",
   "metadata": {},
   "source": [
    "逻辑回归最大化似然估计函数，即最小化负的似然估计函数。\n",
    "\n",
    "1. ![Example Image](img/最大似然估计3.jpg)\n",
    "\n",
    "2. ![Example Image](img/最大似然估计4.jpg)\n",
    "\n"
   ]
  },
  {
   "cell_type": "code",
   "execution_count": 425,
   "metadata": {},
   "outputs": [],
   "source": [
    "# 定义梯度下降函数：主要是更新梯度，求解系数A\n",
    "\n",
    "def solver(y):\n",
    "\n",
    "    # 设置迭代次数与下降速率\n",
    "    n_iterations = 100000\n",
    "    learning_rate = 0.01\n",
    "\n",
    "    # 设置随机初始 A\n",
    "    A = np.random.rand(X_1.shape[1], 1)\n",
    "    n = X_1.shape[0]\n",
    "\n",
    "    for _ in range(n_iterations):\n",
    "\n",
    "        # 梯度求解：核心公式！！！！！\n",
    "        y_pre = 1/(1+np.exp(-np.dot(X_1, A)))\n",
    "        gradient = np.dot(X_1.T, (y_pre - y)) / n\n",
    "        \n",
    "        # 参数迭代\n",
    "        A = A - learning_rate * gradient\n",
    "    \n",
    "    y_pre = 1/(1+np.exp(-np.dot(X_1, A)))\n",
    "    return y_pre\n",
    "\n"
   ]
  },
  {
   "cell_type": "code",
   "execution_count": 426,
   "metadata": {},
   "outputs": [],
   "source": [
    "# 鸢尾花是三分类，需要将其转换为二分类，即构造三个分类器，分别计算标签为[0,1,2]的概率。\n",
    "label_count = len(np.unique(y))\n",
    "if label_count==2:\n",
    "    pass\n",
    "else:\n",
    "    result={}\n",
    "    for i in np.unique(y):\n",
    "\n",
    "        # 为每个分类器当前标签分配1，其他标签分配0，构造新标签label\n",
    "        label=np.zeros_like(y)\n",
    "        label[y==i]=1\n",
    "\n",
    "        # 梯度下降求解\n",
    "        y_pre=solver(label).flatten().tolist()\n",
    "\n",
    "        # 添加结果\n",
    "        result[i]=y_pre"
   ]
  },
  {
   "cell_type": "code",
   "execution_count": 427,
   "metadata": {},
   "outputs": [],
   "source": [
    "# 将三分类的结果转化成dataframe\n",
    "result_pd=pd.DataFrame(data=result)\n",
    "\n",
    "# 找到每一行中具有最大值的列名，就是预测的标签\n",
    "y_pre = result_pd.idxmax(axis=1)"
   ]
  },
  {
   "cell_type": "code",
   "execution_count": 428,
   "metadata": {},
   "outputs": [
    {
     "name": "stdout",
     "output_type": "stream",
     "text": [
      "分类准确率: 0.96\n"
     ]
    }
   ],
   "source": [
    "# 校验准确率\n",
    "from sklearn.metrics import accuracy_score\n",
    "\n",
    "# 计算AUC值\n",
    "accuracy_score = accuracy_score(y, y_pre)\n",
    "\n",
    "# 输出计算得到的AUC值\n",
    "print(\"分类准确率:\", accuracy_score)"
   ]
  },
  {
   "cell_type": "markdown",
   "metadata": {},
   "source": [
    "### 4. 总结"
   ]
  },
  {
   "cell_type": "markdown",
   "metadata": {},
   "source": [
    "1. 正规方程：**J(A) = 0 = X.T·X·A - X.T·Y**\n",
    "\n",
    "2. 梯度：**ΔA = gradient = (1/n)·X.T·(X·A - Y)**\n",
    "\n",
    "3. 由于 **最小二乘法** 与 **梯度下降** 的损失函数一致：**J(A) = (1/2n) · ( X·A − Y )^2**\n",
    "\n",
    "4. 所以对最小二乘法求导=0得到的正规方程 = 梯度*n\n",
    "\n",
    "5. 尚未掌握：**损失函数求导**、**正规方程求解**、**损失函数求解梯度**，等数学推导\n"
   ]
  }
 ],
 "metadata": {
  "kernelspec": {
   "display_name": "Python 3",
   "language": "python",
   "name": "python3"
  },
  "language_info": {
   "codemirror_mode": {
    "name": "ipython",
    "version": 3
   },
   "file_extension": ".py",
   "mimetype": "text/x-python",
   "name": "python",
   "nbconvert_exporter": "python",
   "pygments_lexer": "ipython3",
   "version": "3.12.7"
  }
 },
 "nbformat": 4,
 "nbformat_minor": 2
}
