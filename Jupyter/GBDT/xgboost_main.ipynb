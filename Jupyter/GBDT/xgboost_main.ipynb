{
 "cells": [
  {
   "cell_type": "code",
   "execution_count": 120,
   "metadata": {},
   "outputs": [],
   "source": [
    "from sklearn.datasets import fetch_california_housing\n",
    "from sklearn.model_selection import train_test_split\n",
    "from sklearn.metrics import mean_absolute_error\n",
    "import matplotlib.pyplot as plt\n",
    "import numpy as np"
   ]
  },
  {
   "cell_type": "code",
   "execution_count": 121,
   "metadata": {},
   "outputs": [],
   "source": [
    "boston = fetch_california_housing()\n",
    "y = boston['target']\n",
    "X = boston['data']\n",
    "X_train, X_test, y_train, y_test = train_test_split(X, y, test_size=0.33, random_state=42)\n",
    "X_data = X_train\n",
    "y_data = y_train"
   ]
  },
  {
   "cell_type": "markdown",
   "metadata": {},
   "source": [
    "1. 尚未构建树"
   ]
  },
  {
   "cell_type": "code",
   "execution_count": 122,
   "metadata": {},
   "outputs": [
    {
     "data": {
      "text/plain": [
       "array([0., 0., 0., ..., 0., 0., 0.])"
      ]
     },
     "execution_count": 122,
     "metadata": {},
     "output_type": "execute_result"
    }
   ],
   "source": [
    "# 初始预测值直接为0\n",
    "y_pred = np.zeros(X_data.shape[0])\n",
    "y_pred"
   ]
  },
  {
   "cell_type": "code",
   "execution_count": 123,
   "metadata": {},
   "outputs": [
    {
     "data": {
      "text/plain": [
       "array([-2.428, -7.274, -4.112, ..., -4.442, -5.67 , -6.5  ])"
      ]
     },
     "execution_count": 123,
     "metadata": {},
     "output_type": "execute_result"
    }
   ],
   "source": [
    "# 计算一阶导数\n",
    "garr = 2 * (y_pred - y_data)\n",
    "garr"
   ]
  },
  {
   "cell_type": "code",
   "execution_count": 124,
   "metadata": {},
   "outputs": [
    {
     "data": {
      "text/plain": [
       "array([2., 2., 2., ..., 2., 2., 2.])"
      ]
     },
     "execution_count": 124,
     "metadata": {},
     "output_type": "execute_result"
    }
   ],
   "source": [
    "# 计算二阶导数\n",
    "harr = 2 * np.ones_like(y_data)\n",
    "harr"
   ]
  },
  {
   "cell_type": "code",
   "execution_count": 125,
   "metadata": {},
   "outputs": [
    {
     "data": {
      "text/plain": [
       "[(0, np.float64(0.9809)),\n",
       " (0, np.float64(19.0)),\n",
       " (0, np.float64(3.187725631768953)),\n",
       " (0, np.float64(1.1299638989169676)),\n",
       " (0, np.float64(726.0)),\n",
       " (0, np.float64(2.6209386281588447)),\n",
       " (0, np.float64(33.98)),\n",
       " (0, np.float64(-118.28)),\n",
       " (1, np.float64(4.2232)),\n",
       " (1, np.float64(33.0))]"
      ]
     },
     "execution_count": 125,
     "metadata": {},
     "output_type": "execute_result"
    }
   ],
   "source": [
    "# 利用X_data，计算所有切分点，候选点\n",
    "splits = []\n",
    "for fea in range(X_data.shape[1]):\n",
    "    for val in X_data[fea]:\n",
    "            splits.append((fea, val))\n",
    "splits[:10]\n",
    "# 每个特征的每个值都在splits里面"
   ]
  },
  {
   "cell_type": "code",
   "execution_count": 126,
   "metadata": {},
   "outputs": [],
   "source": [
    "# 构建树0 第0棵树，root根树\n",
    "_lambda=1\n",
    "_gamma = 0\n",
    "\n",
    "\n",
    "# 1. 寻找最佳分裂点\n",
    "bestSplit = None\n",
    "maxScore = -float('inf')\n",
    "subinds = None"
   ]
  },
  {
   "cell_type": "code",
   "execution_count": 127,
   "metadata": {},
   "outputs": [],
   "source": [
    "def split(X_data, sp):\n",
    "    # 劈裂数据集，返回左右子数据集索引\n",
    "    lind = np.where(X_data[:, sp[0]] <= sp[1])[0]\n",
    "    rind = list(set(range(X_data.shape[0])) - set(lind))\n",
    "    return lind, rind\n",
    "\n",
    "def calObj(garr, harr):\n",
    "    return (-1.0 / 2) * sum(garr) ** 2 / (sum(harr) + _lambda) + _gamma"
   ]
  },
  {
   "cell_type": "code",
   "execution_count": 128,
   "metadata": {},
   "outputs": [
    {
     "name": "stdout",
     "output_type": "stream",
     "text": [
      "-59057.04797166389\n"
     ]
    }
   ],
   "source": [
    "# 当前一阶导数、二阶导数的损失值\n",
    "score_pre = calObj(garr, harr)\n",
    "print(score_pre)"
   ]
  },
  {
   "cell_type": "code",
   "execution_count": 129,
   "metadata": {},
   "outputs": [
    {
     "data": {
      "text/plain": [
       "((0, np.float64(3.187725631768953)),\n",
       " array([ 0,  3,  5,  7,  8, 10, 12, 13, 15, 17]),\n",
       " [1, 2, 4, 6, 9, 11, 14, 16, 18, 19])"
      ]
     },
     "execution_count": 129,
     "metadata": {},
     "output_type": "execute_result"
    }
   ],
   "source": [
    "for sp in splits:\n",
    "\n",
    "    # 分割数据集，输出左右数据集的索引\n",
    "    lind, rind = split(X_data, sp) \n",
    "    if len(rind) < 2 or len(lind) < 2:\n",
    "        continue\n",
    "    gl = garr[lind]\n",
    "    gr = garr[rind]\n",
    "    hl = harr[lind]\n",
    "    hr = harr[rind]\n",
    "    score = score_pre - calObj(gl, hl) - calObj(gr, hr)  # 切分后目标函数值下降量\n",
    "    if score > maxScore:\n",
    "        maxScore = score\n",
    "        bestSplit = sp\n",
    "        subinds = (lind, rind)\n",
    "\n",
    "bestSplit, subinds[0][:10],subinds[1][:10]"
   ]
  },
  {
   "cell_type": "code",
   "execution_count": null,
   "metadata": {},
   "outputs": [],
   "source": []
  }
 ],
 "metadata": {
  "kernelspec": {
   "display_name": "Python 3",
   "language": "python",
   "name": "python3"
  },
  "language_info": {
   "codemirror_mode": {
    "name": "ipython",
    "version": 3
   },
   "file_extension": ".py",
   "mimetype": "text/x-python",
   "name": "python",
   "nbconvert_exporter": "python",
   "pygments_lexer": "ipython3",
   "version": "3.12.7"
  }
 },
 "nbformat": 4,
 "nbformat_minor": 2
}
