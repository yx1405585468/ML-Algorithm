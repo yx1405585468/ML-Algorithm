{
 "cells": [
  {
   "cell_type": "markdown",
   "metadata": {},
   "source": [
    "### 1. 理论知识"
   ]
  },
  {
   "cell_type": "markdown",
   "metadata": {},
   "source": [
    "1. Ridge回归是对普通线性回归使用了**L2正则**（实际上是L2的平方）进行优化，对特征的权重系数设置了惩罚项。\n",
    "\n",
    "2. Ridge回归的数学形式：**min(||Y-X·A||^2 + λ||A||^2**，"
   ]
  },
  {
   "cell_type": "markdown",
   "metadata": {},
   "source": [
    "### 2.数据准备"
   ]
  },
  {
   "cell_type": "markdown",
   "metadata": {},
   "source": [
    "##### 2.1 导入数据集"
   ]
  },
  {
   "cell_type": "code",
   "execution_count": 9,
   "metadata": {},
   "outputs": [
    {
     "data": {
      "text/html": [
       "<div>\n",
       "<style scoped>\n",
       "    .dataframe tbody tr th:only-of-type {\n",
       "        vertical-align: middle;\n",
       "    }\n",
       "\n",
       "    .dataframe tbody tr th {\n",
       "        vertical-align: top;\n",
       "    }\n",
       "\n",
       "    .dataframe thead th {\n",
       "        text-align: right;\n",
       "    }\n",
       "</style>\n",
       "<table border=\"1\" class=\"dataframe\">\n",
       "  <thead>\n",
       "    <tr style=\"text-align: right;\">\n",
       "      <th></th>\n",
       "      <th>区收入中位数</th>\n",
       "      <th>区房屋年龄中位数</th>\n",
       "      <th>每户的平均房间数</th>\n",
       "      <th>每户的平均卧室数</th>\n",
       "      <th>区人口数</th>\n",
       "      <th>平每个家庭的成员数</th>\n",
       "      <th>区组纬度</th>\n",
       "      <th>区经度</th>\n",
       "    </tr>\n",
       "  </thead>\n",
       "  <tbody>\n",
       "    <tr>\n",
       "      <th>0</th>\n",
       "      <td>8.3252</td>\n",
       "      <td>41.0</td>\n",
       "      <td>6.984127</td>\n",
       "      <td>1.023810</td>\n",
       "      <td>322.0</td>\n",
       "      <td>2.555556</td>\n",
       "      <td>37.88</td>\n",
       "      <td>-122.23</td>\n",
       "    </tr>\n",
       "    <tr>\n",
       "      <th>1</th>\n",
       "      <td>8.3014</td>\n",
       "      <td>21.0</td>\n",
       "      <td>6.238137</td>\n",
       "      <td>0.971880</td>\n",
       "      <td>2401.0</td>\n",
       "      <td>2.109842</td>\n",
       "      <td>37.86</td>\n",
       "      <td>-122.22</td>\n",
       "    </tr>\n",
       "    <tr>\n",
       "      <th>2</th>\n",
       "      <td>7.2574</td>\n",
       "      <td>52.0</td>\n",
       "      <td>8.288136</td>\n",
       "      <td>1.073446</td>\n",
       "      <td>496.0</td>\n",
       "      <td>2.802260</td>\n",
       "      <td>37.85</td>\n",
       "      <td>-122.24</td>\n",
       "    </tr>\n",
       "    <tr>\n",
       "      <th>3</th>\n",
       "      <td>5.6431</td>\n",
       "      <td>52.0</td>\n",
       "      <td>5.817352</td>\n",
       "      <td>1.073059</td>\n",
       "      <td>558.0</td>\n",
       "      <td>2.547945</td>\n",
       "      <td>37.85</td>\n",
       "      <td>-122.25</td>\n",
       "    </tr>\n",
       "    <tr>\n",
       "      <th>4</th>\n",
       "      <td>3.8462</td>\n",
       "      <td>52.0</td>\n",
       "      <td>6.281853</td>\n",
       "      <td>1.081081</td>\n",
       "      <td>565.0</td>\n",
       "      <td>2.181467</td>\n",
       "      <td>37.85</td>\n",
       "      <td>-122.25</td>\n",
       "    </tr>\n",
       "    <tr>\n",
       "      <th>...</th>\n",
       "      <td>...</td>\n",
       "      <td>...</td>\n",
       "      <td>...</td>\n",
       "      <td>...</td>\n",
       "      <td>...</td>\n",
       "      <td>...</td>\n",
       "      <td>...</td>\n",
       "      <td>...</td>\n",
       "    </tr>\n",
       "    <tr>\n",
       "      <th>20635</th>\n",
       "      <td>1.5603</td>\n",
       "      <td>25.0</td>\n",
       "      <td>5.045455</td>\n",
       "      <td>1.133333</td>\n",
       "      <td>845.0</td>\n",
       "      <td>2.560606</td>\n",
       "      <td>39.48</td>\n",
       "      <td>-121.09</td>\n",
       "    </tr>\n",
       "    <tr>\n",
       "      <th>20636</th>\n",
       "      <td>2.5568</td>\n",
       "      <td>18.0</td>\n",
       "      <td>6.114035</td>\n",
       "      <td>1.315789</td>\n",
       "      <td>356.0</td>\n",
       "      <td>3.122807</td>\n",
       "      <td>39.49</td>\n",
       "      <td>-121.21</td>\n",
       "    </tr>\n",
       "    <tr>\n",
       "      <th>20637</th>\n",
       "      <td>1.7000</td>\n",
       "      <td>17.0</td>\n",
       "      <td>5.205543</td>\n",
       "      <td>1.120092</td>\n",
       "      <td>1007.0</td>\n",
       "      <td>2.325635</td>\n",
       "      <td>39.43</td>\n",
       "      <td>-121.22</td>\n",
       "    </tr>\n",
       "    <tr>\n",
       "      <th>20638</th>\n",
       "      <td>1.8672</td>\n",
       "      <td>18.0</td>\n",
       "      <td>5.329513</td>\n",
       "      <td>1.171920</td>\n",
       "      <td>741.0</td>\n",
       "      <td>2.123209</td>\n",
       "      <td>39.43</td>\n",
       "      <td>-121.32</td>\n",
       "    </tr>\n",
       "    <tr>\n",
       "      <th>20639</th>\n",
       "      <td>2.3886</td>\n",
       "      <td>16.0</td>\n",
       "      <td>5.254717</td>\n",
       "      <td>1.162264</td>\n",
       "      <td>1387.0</td>\n",
       "      <td>2.616981</td>\n",
       "      <td>39.37</td>\n",
       "      <td>-121.24</td>\n",
       "    </tr>\n",
       "  </tbody>\n",
       "</table>\n",
       "<p>20640 rows × 8 columns</p>\n",
       "</div>"
      ],
      "text/plain": [
       "       区收入中位数  区房屋年龄中位数  每户的平均房间数  每户的平均卧室数    区人口数  平每个家庭的成员数   区组纬度     区经度\n",
       "0      8.3252      41.0  6.984127  1.023810   322.0   2.555556  37.88 -122.23\n",
       "1      8.3014      21.0  6.238137  0.971880  2401.0   2.109842  37.86 -122.22\n",
       "2      7.2574      52.0  8.288136  1.073446   496.0   2.802260  37.85 -122.24\n",
       "3      5.6431      52.0  5.817352  1.073059   558.0   2.547945  37.85 -122.25\n",
       "4      3.8462      52.0  6.281853  1.081081   565.0   2.181467  37.85 -122.25\n",
       "...       ...       ...       ...       ...     ...        ...    ...     ...\n",
       "20635  1.5603      25.0  5.045455  1.133333   845.0   2.560606  39.48 -121.09\n",
       "20636  2.5568      18.0  6.114035  1.315789   356.0   3.122807  39.49 -121.21\n",
       "20637  1.7000      17.0  5.205543  1.120092  1007.0   2.325635  39.43 -121.22\n",
       "20638  1.8672      18.0  5.329513  1.171920   741.0   2.123209  39.43 -121.32\n",
       "20639  2.3886      16.0  5.254717  1.162264  1387.0   2.616981  39.37 -121.24\n",
       "\n",
       "[20640 rows x 8 columns]"
      ]
     },
     "execution_count": 9,
     "metadata": {},
     "output_type": "execute_result"
    }
   ],
   "source": [
    "# 导入模块\n",
    "from sklearn.datasets import fetch_california_housing\n",
    "import pandas as pd\n",
    "import numpy as np\n",
    "\n",
    "# 处理数据集\n",
    "ca_housing = fetch_california_housing()\n",
    "X = pd.DataFrame(data=ca_housing.data, columns=ca_housing.feature_names)\n",
    "y = pd.DataFrame(data=ca_housing.target, columns=[\"区平均售价\"])\n",
    "\n",
    "# 特征重命名\n",
    "map_ = {\n",
    "    \"MedInc\": \"区收入中位数\",\n",
    "    \"HouseAge\": \"区房屋年龄中位数\",\n",
    "    \"AveRooms\": \"每户的平均房间数\",\n",
    "    \"AveBedrms\": \"每户的平均卧室数\",\n",
    "    \"Population\": \"区人口数\",\n",
    "    \"AveOccup\": \"平每个家庭的成员数\",\n",
    "    \"Latitude\": \"区组纬度\",\n",
    "    \"Longitude\": \"区经度\",\n",
    "}\n",
    "X = X.rename(columns=map_)\n",
    "X"
   ]
  },
  {
   "cell_type": "markdown",
   "metadata": {},
   "source": [
    "#### 2.2 数据处理"
   ]
  },
  {
   "cell_type": "markdown",
   "metadata": {},
   "source": [
    "1. 线性回归一般公式 **y = ax + b**, 以矩阵形式呈现为 **(X·A + b =Y)**\n",
    "\n",
    "2. 手动增加一列特征xn+1 = 1，线性回归公式则得 y = a1·x1 + a2·x2 + ... an·xn + b·xn+1，则 A=[a1,a2,...,an,b], 化为矩阵形式：**X·A = Y**，\n",
    "\n",
    "3. 求解得A( **最小二乘法、梯度下降法** )，则b = A[-1]"
   ]
  },
  {
   "cell_type": "markdown",
   "metadata": {},
   "source": [
    "**注意！！一定要对数据进行归一化，统一量纲，不然梯度下降有很大概率无法收敛！！**"
   ]
  },
  {
   "cell_type": "code",
   "execution_count": 10,
   "metadata": {},
   "outputs": [],
   "source": [
    "from sklearn.preprocessing import Normalizer\n",
    "\n",
    "# 数据归一化！！！！非常重要！！！！\n",
    "X_1 = Normalizer().fit_transform(X)\n",
    "\n",
    "# 添加补充列\n",
    "X_1 = np.hstack((X_1, (np.ones((len(X_1), 1)))))\n",
    "\n",
    "# 最后将X,y array化，方便后续计算，矩阵乘法@符号，和A.dot(B)形式都要求为array，否则只能用np.dot(A,B)\n",
    "y = y.values"
   ]
  },
  {
   "cell_type": "markdown",
   "metadata": {},
   "source": [
    "### 3. 算法实现"
   ]
  },
  {
   "cell_type": "markdown",
   "metadata": {},
   "source": [
    "#### 3.1 梯度下降"
   ]
  },
  {
   "cell_type": "markdown",
   "metadata": {},
   "source": [
    "**梯度下降思想**：\n",
    "\n",
    "1. Ridge回归增加了 **λ|A|^2** 惩罚，损失函数为**J(A) = (1/2n) · ( X·A − Y )^2 + λ·|A|^2 ，** ,（1/2n中的2是为了求导后使得前面的系数为1）\n",
    "\n",
    "2. 在Ridge回归中，损失函数由数据误差项（均方误差）和L2正则化项组成。L2正则化项的梯度是正则化参数λ与参数矩阵A本身的常数倍。\n",
    "\n",
    "3. L2正则化项的梯度：2𝜆⋅A，**ΔA = gradient = (1/n)·X.T·(X·A - Y) + 2λ·A**\n",
    "\n",
    "4. 进行迭代时：有了L2正则项，A=A-gradient = A-(1/n)·X.T·(X·A - Y) - 2λ·A = A(1-2λ)-(1/n)·X.T·(X·A - Y)，可见，每次迭代时，A都乘以了一个小于1的系数(1-α·2λ)，A在不断减小，故此，L2正则化能够防止过拟合。（α 是学习率）"
   ]
  },
  {
   "cell_type": "code",
   "execution_count": 11,
   "metadata": {},
   "outputs": [
    {
     "name": "stdout",
     "output_type": "stream",
     "text": [
      "MSE均方误差： 1.3808657698403681\n"
     ]
    }
   ],
   "source": [
    "from sklearn.metrics import mean_squared_error as mse\n",
    "\n",
    "# 设置迭代次数与下降速率\n",
    "n_iterations = 1000\n",
    "learning_rate = 0.01\n",
    "lambda_val = -0.1\n",
    "\n",
    "# 设置随机初始 A\n",
    "loss_his = []\n",
    "A = np.random.rand(X_1.shape[1], 1)\n",
    "n = X_1.shape[0]\n",
    "\n",
    "for _ in range(n_iterations):\n",
    "\n",
    "    # 梯度求解：核心公式！！！！！\n",
    "    gradients = X_1.T @ (X_1 @ A - y) / n + 2 * lambda_val * A\n",
    "\n",
    "    # 参数迭代\n",
    "    A = A - learning_rate * gradients\n",
    "\n",
    "    # 求损失值\n",
    "    loss = mse(X_1 @ A, y)\n",
    "    loss_his.append(loss)\n",
    "\n",
    "\n",
    "# MSE均方误差\n",
    "pred_y = np.dot(X_1, A)\n",
    "print(\"MSE均方误差：\", mse(pred_y, y))"
   ]
  },
  {
   "cell_type": "code",
   "execution_count": 12,
   "metadata": {},
   "outputs": [
    {
     "data": {
      "text/plain": [
       "<Axes: >"
      ]
     },
     "execution_count": 12,
     "metadata": {},
     "output_type": "execute_result"
    },
    {
     "data": {
      "image/png": "[encoded data removed]",
      "text/plain": [
       "<Figure size 640x480 with 1 Axes>"
      ]
     },
     "metadata": {},
     "output_type": "display_data"
    }
   ],
   "source": [
    "# 绘图设置\n",
    "from matplotlib import rcParams\n",
    "\n",
    "rcParams[\"font.family\"] = \"SimHei\"\n",
    "\n",
    "pd.DataFrame(data=loss_his, columns=[\"loss值\"]).plot()"
   ]
  },
  {
   "cell_type": "markdown",
   "metadata": {},
   "source": [
    "### 4. 总结"
   ]
  },
  {
   "cell_type": "markdown",
   "metadata": {},
   "source": [
    "1. Ridge回归由于增加了正则化惩罚项，而正则化项是非光滑的，所以其损失函数不再是凸函数，无法使用正规方程解法\n",
    "\n",
    "2. 对于Lasso回归的L1正则化项，λ|A|,即L1范数，其导数为符号函数\n",
    "\n",
    "3. 对于岭回归的L2正则化项，λ|A|^2，即L2范数，其导数是参数本身：2λ·A,即参数向量（矩阵）A的常数倍。\n"
   ]
  }
 ],
 "metadata": {
  "kernelspec": {
   "display_name": "Python 3",
   "language": "python",
   "name": "python3"
  },
  "language_info": {
   "codemirror_mode": {
    "name": "ipython",
    "version": 3
   },
   "file_extension": ".py",
   "mimetype": "text/x-python",
   "name": "python",
   "nbconvert_exporter": "python",
   "pygments_lexer": "ipython3",
   "version": "3.12.7"
  }
 },
 "nbformat": 4,
 "nbformat_minor": 2
}
