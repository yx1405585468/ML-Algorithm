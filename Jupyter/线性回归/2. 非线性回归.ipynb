{
 "cells": [
  {
   "cell_type": "markdown",
   "metadata": {},
   "source": [
    "### 1. 理论知识"
   ]
  },
  {
   "cell_type": "markdown",
   "metadata": {},
   "source": [
    "1. 非线性回归，即在线性回归的基础上增加了对自变量X的处理，在线性回归中y与x是线性关系，而在非线性回归中，x可以是对数，可以是指数，有指数回归，对数回归，多项式回归，双曲正切回归，Sigmoid函数等"
   ]
  },
  {
   "cell_type": "markdown",
   "metadata": {},
   "source": [
    "### 2.数据准备"
   ]
  },
  {
   "cell_type": "markdown",
   "metadata": {},
   "source": [
    "##### 2.1 导入数据集"
   ]
  },
  {
   "cell_type": "code",
   "execution_count": 1,
   "metadata": {},
   "outputs": [
    {
     "data": {
      "text/html": [
       "<div>\n",
       "<style scoped>\n",
       "    .dataframe tbody tr th:only-of-type {\n",
       "        vertical-align: middle;\n",
       "    }\n",
       "\n",
       "    .dataframe tbody tr th {\n",
       "        vertical-align: top;\n",
       "    }\n",
       "\n",
       "    .dataframe thead th {\n",
       "        text-align: right;\n",
       "    }\n",
       "</style>\n",
       "<table border=\"1\" class=\"dataframe\">\n",
       "  <thead>\n",
       "    <tr style=\"text-align: right;\">\n",
       "      <th></th>\n",
       "      <th>区收入中位数</th>\n",
       "      <th>区房屋年龄中位数</th>\n",
       "      <th>每户的平均房间数</th>\n",
       "      <th>每户的平均卧室数</th>\n",
       "      <th>区人口数</th>\n",
       "      <th>平每个家庭的成员数</th>\n",
       "      <th>区组纬度</th>\n",
       "      <th>区经度</th>\n",
       "    </tr>\n",
       "  </thead>\n",
       "  <tbody>\n",
       "    <tr>\n",
       "      <th>0</th>\n",
       "      <td>8.3252</td>\n",
       "      <td>41.0</td>\n",
       "      <td>6.984127</td>\n",
       "      <td>1.023810</td>\n",
       "      <td>322.0</td>\n",
       "      <td>2.555556</td>\n",
       "      <td>37.88</td>\n",
       "      <td>-122.23</td>\n",
       "    </tr>\n",
       "    <tr>\n",
       "      <th>1</th>\n",
       "      <td>8.3014</td>\n",
       "      <td>21.0</td>\n",
       "      <td>6.238137</td>\n",
       "      <td>0.971880</td>\n",
       "      <td>2401.0</td>\n",
       "      <td>2.109842</td>\n",
       "      <td>37.86</td>\n",
       "      <td>-122.22</td>\n",
       "    </tr>\n",
       "    <tr>\n",
       "      <th>2</th>\n",
       "      <td>7.2574</td>\n",
       "      <td>52.0</td>\n",
       "      <td>8.288136</td>\n",
       "      <td>1.073446</td>\n",
       "      <td>496.0</td>\n",
       "      <td>2.802260</td>\n",
       "      <td>37.85</td>\n",
       "      <td>-122.24</td>\n",
       "    </tr>\n",
       "    <tr>\n",
       "      <th>3</th>\n",
       "      <td>5.6431</td>\n",
       "      <td>52.0</td>\n",
       "      <td>5.817352</td>\n",
       "      <td>1.073059</td>\n",
       "      <td>558.0</td>\n",
       "      <td>2.547945</td>\n",
       "      <td>37.85</td>\n",
       "      <td>-122.25</td>\n",
       "    </tr>\n",
       "    <tr>\n",
       "      <th>4</th>\n",
       "      <td>3.8462</td>\n",
       "      <td>52.0</td>\n",
       "      <td>6.281853</td>\n",
       "      <td>1.081081</td>\n",
       "      <td>565.0</td>\n",
       "      <td>2.181467</td>\n",
       "      <td>37.85</td>\n",
       "      <td>-122.25</td>\n",
       "    </tr>\n",
       "    <tr>\n",
       "      <th>...</th>\n",
       "      <td>...</td>\n",
       "      <td>...</td>\n",
       "      <td>...</td>\n",
       "      <td>...</td>\n",
       "      <td>...</td>\n",
       "      <td>...</td>\n",
       "      <td>...</td>\n",
       "      <td>...</td>\n",
       "    </tr>\n",
       "    <tr>\n",
       "      <th>20635</th>\n",
       "      <td>1.5603</td>\n",
       "      <td>25.0</td>\n",
       "      <td>5.045455</td>\n",
       "      <td>1.133333</td>\n",
       "      <td>845.0</td>\n",
       "      <td>2.560606</td>\n",
       "      <td>39.48</td>\n",
       "      <td>-121.09</td>\n",
       "    </tr>\n",
       "    <tr>\n",
       "      <th>20636</th>\n",
       "      <td>2.5568</td>\n",
       "      <td>18.0</td>\n",
       "      <td>6.114035</td>\n",
       "      <td>1.315789</td>\n",
       "      <td>356.0</td>\n",
       "      <td>3.122807</td>\n",
       "      <td>39.49</td>\n",
       "      <td>-121.21</td>\n",
       "    </tr>\n",
       "    <tr>\n",
       "      <th>20637</th>\n",
       "      <td>1.7000</td>\n",
       "      <td>17.0</td>\n",
       "      <td>5.205543</td>\n",
       "      <td>1.120092</td>\n",
       "      <td>1007.0</td>\n",
       "      <td>2.325635</td>\n",
       "      <td>39.43</td>\n",
       "      <td>-121.22</td>\n",
       "    </tr>\n",
       "    <tr>\n",
       "      <th>20638</th>\n",
       "      <td>1.8672</td>\n",
       "      <td>18.0</td>\n",
       "      <td>5.329513</td>\n",
       "      <td>1.171920</td>\n",
       "      <td>741.0</td>\n",
       "      <td>2.123209</td>\n",
       "      <td>39.43</td>\n",
       "      <td>-121.32</td>\n",
       "    </tr>\n",
       "    <tr>\n",
       "      <th>20639</th>\n",
       "      <td>2.3886</td>\n",
       "      <td>16.0</td>\n",
       "      <td>5.254717</td>\n",
       "      <td>1.162264</td>\n",
       "      <td>1387.0</td>\n",
       "      <td>2.616981</td>\n",
       "      <td>39.37</td>\n",
       "      <td>-121.24</td>\n",
       "    </tr>\n",
       "  </tbody>\n",
       "</table>\n",
       "<p>20640 rows × 8 columns</p>\n",
       "</div>"
      ],
      "text/plain": [
       "       区收入中位数  区房屋年龄中位数  每户的平均房间数  每户的平均卧室数    区人口数  平每个家庭的成员数   区组纬度     区经度\n",
       "0      8.3252      41.0  6.984127  1.023810   322.0   2.555556  37.88 -122.23\n",
       "1      8.3014      21.0  6.238137  0.971880  2401.0   2.109842  37.86 -122.22\n",
       "2      7.2574      52.0  8.288136  1.073446   496.0   2.802260  37.85 -122.24\n",
       "3      5.6431      52.0  5.817352  1.073059   558.0   2.547945  37.85 -122.25\n",
       "4      3.8462      52.0  6.281853  1.081081   565.0   2.181467  37.85 -122.25\n",
       "...       ...       ...       ...       ...     ...        ...    ...     ...\n",
       "20635  1.5603      25.0  5.045455  1.133333   845.0   2.560606  39.48 -121.09\n",
       "20636  2.5568      18.0  6.114035  1.315789   356.0   3.122807  39.49 -121.21\n",
       "20637  1.7000      17.0  5.205543  1.120092  1007.0   2.325635  39.43 -121.22\n",
       "20638  1.8672      18.0  5.329513  1.171920   741.0   2.123209  39.43 -121.32\n",
       "20639  2.3886      16.0  5.254717  1.162264  1387.0   2.616981  39.37 -121.24\n",
       "\n",
       "[20640 rows x 8 columns]"
      ]
     },
     "execution_count": 1,
     "metadata": {},
     "output_type": "execute_result"
    }
   ],
   "source": [
    "# 导入模块\n",
    "from sklearn.datasets import fetch_california_housing\n",
    "import pandas as pd\n",
    "import numpy as np\n",
    "\n",
    "# 处理数据集\n",
    "ca_housing = fetch_california_housing()\n",
    "X = pd.DataFrame(data=ca_housing.data, columns=ca_housing.feature_names)\n",
    "y = pd.DataFrame(data=ca_housing.target, columns=[\"区平均售价\"])\n",
    "\n",
    "# 特征重命名\n",
    "map_ = {\n",
    "    \"MedInc\": \"区收入中位数\",\n",
    "    \"HouseAge\": \"区房屋年龄中位数\",\n",
    "    \"AveRooms\": \"每户的平均房间数\",\n",
    "    \"AveBedrms\": \"每户的平均卧室数\",\n",
    "    \"Population\": \"区人口数\",\n",
    "    \"AveOccup\": \"平每个家庭的成员数\",\n",
    "    \"Latitude\": \"区组纬度\",\n",
    "    \"Longitude\": \"区经度\",\n",
    "}\n",
    "X = X.rename(columns=map_)\n",
    "X"
   ]
  },
  {
   "cell_type": "markdown",
   "metadata": {},
   "source": [
    "#### 2.2 数据处理"
   ]
  },
  {
   "cell_type": "markdown",
   "metadata": {},
   "source": [
    "1. 对自变量X做各种非线性处理，这里举例对X做二次多项式处理。\n",
    "\n",
    "2. 在机器学习中，**PolynomialFeatures**类用于生成多项式特征，将输入特征转换为指定次数的多项式。在这里，设置**degree=2**表示生成二次多项式特征，即原始特征的所有可能的二次组合。举个例子，假设原始特征为 [x1, x2]，使用PolynomialFeatures(degree=2)后，会生成如下特征：\n",
    "\n",
    "    1. 1次特征： **[1, x1, x2]**\n",
    "    2. 2次特征： **[1, x1, x2, x1^2, x1*x2, x2^2]**\n",
    "这样，原始特征 [x1, x2] 就被转换成了包含原始特征及其二次组合的特征集合。"
   ]
  },
  {
   "cell_type": "markdown",
   "metadata": {},
   "source": [
    "**注意！！一定要对数据进行归一化，统一量纲，不然梯度下降大概率无法收敛！！**"
   ]
  },
  {
   "cell_type": "code",
   "execution_count": 2,
   "metadata": {},
   "outputs": [
    {
     "data": {
      "text/plain": [
       "(20640, 46)"
      ]
     },
     "execution_count": 2,
     "metadata": {},
     "output_type": "execute_result"
    }
   ],
   "source": [
    "from sklearn.preprocessing import PolynomialFeatures\n",
    "from sklearn.preprocessing import Normalizer\n",
    "\n",
    "# 添加多项式特征\n",
    "poly = PolynomialFeatures(degree=2)  # 二次多项式特征\n",
    "X_poly = poly.fit_transform(X)\n",
    "\n",
    "# 数据归一化！！！！非常重要！！！！\n",
    "X_1 = Normalizer().fit_transform(X_poly)\n",
    "\n",
    "# 添加补充列（已经Array化）\n",
    "X_1 = np.hstack((X_1, (np.ones((len(X_poly), 1)))))\n",
    "\n",
    "# 最后将y array化，方便后续计算，矩阵乘法@符号，和A.dot(B)形式都要求为array，否则只能用np.dot(A,B)\n",
    "y = y.values\n",
    "\n",
    "X_1.shape"
   ]
  },
  {
   "cell_type": "markdown",
   "metadata": {},
   "source": [
    "### 3. 算法实现"
   ]
  },
  {
   "cell_type": "markdown",
   "metadata": {},
   "source": [
    "#### 3.1 最小二乘法 ~ 正规方程"
   ]
  },
  {
   "cell_type": "markdown",
   "metadata": {},
   "source": [
    "1. 非线性回归不能直接使用正规方程解法（无法保证是凸函数），如下可见损失函数极大"
   ]
  },
  {
   "cell_type": "code",
   "execution_count": 3,
   "metadata": {},
   "outputs": [
    {
     "name": "stdout",
     "output_type": "stream",
     "text": [
      "Loss值： 0.3560030877883593\n",
      "cost 0.3560030877883593\n",
      "MSE均方误差： 0.7120061755767186\n"
     ]
    }
   ],
   "source": [
    "from sklearn.metrics import mean_squared_error as mse\n",
    "\n",
    "# 最小二乘法~正规方程求解：核心公式！！！！！\n",
    "A = (np.linalg.inv(X_1.T @ X_1) @ X_1.T @ y)  # np.linalg.inv 求矩阵的逆，但是假如矩阵不可逆？\n",
    "\n",
    "# 损失函数写法1\n",
    "loss = (1 / 2) * np.sum((np.dot(X_1, A) - y) ** 2) / X.shape[0]\n",
    "print(\"Loss值：\", loss)\n",
    "\n",
    "# 损失函数写法2\n",
    "error = np.dot(X_1, A) - y\n",
    "cost = (1 / 2) * np.dot(error.T, error) / X.shape[0]\n",
    "print(\"cost\", cost[0][0])\n",
    "\n",
    "# MSE均方误差\n",
    "pred_y = np.dot(X_1, A)\n",
    "print(\"MSE均方误差：\", mse(pred_y, y))"
   ]
  },
  {
   "cell_type": "markdown",
   "metadata": {},
   "source": [
    "#### 3.2 梯度下降"
   ]
  },
  {
   "cell_type": "markdown",
   "metadata": {},
   "source": [
    "**梯度下降思想**：\n",
    "1. 损失函数：**J(A) = (1/2n) · ( X·A − Y )^2 ，** ,（1/2n中的2是为了求导后使得前面的系数为1），此时A是自变量，X是常量。\n",
    "\n",
    "2. 对A求梯度，可得ΔA ,A = A - ΔA（往梯度的反方向迭代时），损失函数可获取最小值，**ΔA = gradient = (1/n)·X.T·(X·A - Y)**\n",
    "\n"
   ]
  },
  {
   "cell_type": "code",
   "execution_count": 4,
   "metadata": {},
   "outputs": [
    {
     "name": "stdout",
     "output_type": "stream",
     "text": [
      "MSE均方误差： 1.3349610170116282\n"
     ]
    }
   ],
   "source": [
    "# 设置迭代次数与下降速率\n",
    "n_iterations = 1000\n",
    "learning_rate = 0.01\n",
    "\n",
    "# 设置随机初始 A\n",
    "loss_his = []\n",
    "A = np.random.rand(X_1.shape[1], 1)\n",
    "n = X_1.shape[0]\n",
    "\n",
    "for _ in range(n_iterations):\n",
    "\n",
    "    # 梯度求解：核心公式！！！！！\n",
    "    gradients = X_1.T @ (X_1 @ A - y) / n\n",
    "\n",
    "    # 参数迭代\n",
    "    A = A - learning_rate * gradients\n",
    "\n",
    "    # 求损失值\n",
    "    loss = mse(X_1 @ A, y)\n",
    "    loss_his.append(loss)\n",
    "\n",
    "\n",
    "# MSE均方误差\n",
    "pred_y = np.dot(X_1, A)\n",
    "print(\"MSE均方误差：\", mse(pred_y, y))"
   ]
  },
  {
   "cell_type": "code",
   "execution_count": 5,
   "metadata": {},
   "outputs": [
    {
     "data": {
      "text/plain": [
       "<Axes: >"
      ]
     },
     "execution_count": 5,
     "metadata": {},
     "output_type": "execute_result"
    },
    {
     "data": {
      "image/png": "[encoded data removed]",
      "text/plain": [
       "<Figure size 640x480 with 1 Axes>"
      ]
     },
     "metadata": {},
     "output_type": "display_data"
    }
   ],
   "source": [
    "# 绘图设置\n",
    "from matplotlib import rcParams\n",
    "\n",
    "rcParams[\"font.family\"] = \"SimHei\"\n",
    "\n",
    "pd.DataFrame(data=loss_his, columns=[\"loss值\"]).plot()"
   ]
  },
  {
   "cell_type": "markdown",
   "metadata": {},
   "source": [
    "### 4. 总结"
   ]
  },
  {
   "cell_type": "markdown",
   "metadata": {},
   "source": [
    "1. 正规方程是线性回归的封闭解，一般不用于非线性回归\n",
    "\n",
    "2. 非线性回归由于关系是非线性的，所以一般采用梯度下降等迭代法来求解。(一定要归一化)"
   ]
  }
 ],
 "metadata": {
  "kernelspec": {
   "display_name": "Python 3",
   "language": "python",
   "name": "python3"
  },
  "language_info": {
   "codemirror_mode": {
    "name": "ipython",
    "version": 3
   },
   "file_extension": ".py",
   "mimetype": "text/x-python",
   "name": "python",
   "nbconvert_exporter": "python",
   "pygments_lexer": "ipython3",
   "version": "3.12.7"
  }
 },
 "nbformat": 4,
 "nbformat_minor": 2
}
